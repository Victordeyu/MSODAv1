{
 "cells": [
  {
   "cell_type": "code",
   "execution_count": 10,
   "metadata": {},
   "outputs": [],
   "source": [
    "import numpy as np\n",
    "import pandas as pd\n",
    "import scipy.io as sio\n",
    "import scipy.linalg as la\n",
    "from sklearn.svm import SVC\n",
    "# from JDIP import JDIP\n",
    "# from MSJDIP import MSJDIP\n",
    "from sklearn.svm import LinearSVC\n",
    "from sklearn.decomposition import PCA\n",
    "from sklearn.model_selection import GridSearchCV\n",
    "from sklearn.preprocessing import scale,LabelEncoder\n",
    "from os import path as osp\n",
    "import autograd.numpy as anp\n",
    "import autograd.numpy.linalg as alina\n",
    "import pymanopt as pm\n",
    "import pymanopt.manifolds as manifolds\n",
    "import pymanopt.optimizers as optimizers\n",
    "from sklearn.metrics import pairwise_distances\n",
    "import autograd.numpy as anp\n",
    "import autograd.numpy.linalg as alina\n",
    "import numpy as np\n",
    "import numpy.linalg as nlina\n",
    "import pandas as pd\n",
    "from sklearn.svm import LinearSVC\n",
    "from sklearn.preprocessing import scale\n",
    "import sys\n",
    "\n",
    "import numpy as np\n",
    "import matplotlib.pyplot as plt\n",
    "from sklearn import cluster\n",
    "from sklearn import datasets\n",
    "from sklearn.manifold import TSNE"
   ]
  },
  {
   "cell_type": "code",
   "execution_count": 12,
   "metadata": {},
   "outputs": [],
   "source": [
    "\n",
    "def roadDataMSbyCSV(root,scs, tg, Cs_end, Cu_start):\n",
    "    Xs,Ys,l=[],[],[]\n",
    "    li=0\n",
    "    for sc in scs:  \n",
    "        print('source {} is {}'.format(li,sc))\n",
    "        source = np.array(pd.read_csv(osp.join(root,sc), header=None))\n",
    "        source = source[source[:, -1] < Cs_end, :]  # 返回bool值作为行索引,选出符合数据\n",
    "        Xsi = source[:, :-1]\n",
    "        Ysi = source[:, -1].astype(int)\n",
    "        Xsi = Xsi / nlina.norm(Xsi, axis=1, keepdims=True)\n",
    "        Xs.append(Xsi)\n",
    "        Ys.append(Ysi)\n",
    "        l=np.hstack((np.array(l),np.full((source.shape[0],),li)))\n",
    "        li+=1\n",
    "\n",
    "    target = np.array(pd.read_csv(osp.join(root,tg), header=None))\n",
    "    print('target {} is {}'.format(li,tg))\n",
    "    \n",
    "\n",
    "    C = np.size(np.unique(source[:, -1]))\n",
    "    Cs = Cs_end\n",
    "    Cu = C - Cu_start\n",
    "\n",
    "    if Cs_end != Cu_start:\n",
    "        target = np.vstack((target[target[:, -1] < Cs_end, :], target[target[:, -1] >= Cu_start, :]))\n",
    "    Xt = target[:, :-1]\n",
    "    Yt = target[:, -1].astype(int)\n",
    "    Xt = Xt / nlina.norm(Xt, axis=1, keepdims=True)\n",
    "    \n",
    "    l=np.hstack((np.array(l),np.full((Xt.shape[0],),li)))\n",
    "\n",
    "    return Xs, Ys, Xt, Yt,l,Cs, Cu\n",
    "\n",
    "def cla_Svc(Xs, Xt, Ys):\n",
    "    # 2.SVM分类模型\n",
    "    model_cla = LinearSVC(dual=False)  # dual决定无法收敛时取消默认1000的迭代次数\n",
    "    model_cla.fit(Xs, Ys)\n",
    "    conf_matrix = model_cla.decision_function(Xt)\n",
    "    conf_label = conf_matrix.argmax(axis=1)  # 每个样本最大置信度的索引,即类\n",
    "    conf_vec = np.max(conf_matrix, axis=1)  # 每个样本最大置信度\n",
    "\n",
    "    return conf_label, conf_vec\n",
    "\n",
    "def compute_acc(Y, Y_pseudo, Cs):\n",
    "    acc_os_all = 0\n",
    "    acc_os_k = 0\n",
    "    os = 0\n",
    "    os_1 = 0 \n",
    "    # print(Y)\n",
    "    # print(Y_pseudo)\n",
    "    # 计算已知类的分类准确率\n",
    "    for c in range(Cs):\n",
    "        os_1 = np.sum(Y_pseudo[Y == c] == Y[Y == c]) /Y[Y == c].shape\n",
    "        acc_os_k += os_1\n",
    "    acc_os_k = acc_os_k/Cs\n",
    "    print(acc_os_k)\n",
    "    # 计算未知类的分类准确率\n",
    "    for c in range(Cs):\n",
    "        os = np.sum(Y_pseudo[Y == c] == Y[Y == c]) /Y[Y == c].shape\n",
    "        acc_os_all += os \n",
    "    os_unk = np.sum(Y_pseudo[Y >= Cs ] == Cs)/Y[Y >= Cs ].shape\n",
    "    acc_os_all += os_unk\n",
    "    acc_os_all = acc_os_all/(Cs+1)\n",
    "    HOS=2*(acc_os_k*os_unk)/(acc_os_k+os_unk)\n",
    "    return acc_os_all,os_unk,acc_os_k,HOS\n",
    "\n",
    "def pseudo_fuc_ms(Xs, ys, Xt, Yt,Cs,Cu,conf=0):\n",
    "    # 1.加载数据\n",
    "    Xs=np.vstack(Xs)\n",
    "    ys=np.hstack(ys)\n",
    "\n",
    "    Xs = scale(Xs, with_std=False)\n",
    "    Xt = scale(Xt, with_std=False)\n",
    "\n",
    "\n",
    "    # 2.设置分类模型,标注已知类伪标签\n",
    "    Xt_label, Xt_labelConf = cla_Svc(Xs, Xt, ys)\n",
    "\n",
    "    # conf = -0.25  # 根据SVM定义,置信度大于0才属于已知类\n",
    "    Xtk = Xt[Xt_labelConf >= conf]\n",
    "    Ytk = Yt[Xt_labelConf >= conf]\n",
    "    Ytk_pseudo = Xt_label[Xt_labelConf >= conf]\n",
    "    Xtu = Xt[Xt_labelConf < conf]\n",
    "    Ytu = Yt[Xt_labelConf < conf]\n",
    "    Ytu_pseudo = Xt_label[Xt_labelConf < conf]\n",
    "    Ytu_pseudo[:] = Cs\n",
    "    \n",
    "\n",
    "    # 5.目标域数据整合\n",
    "    Xt_new = np.vstack((Xtk, Xtu))\n",
    "    Yt_new = np.hstack((Ytk, Ytu))\n",
    "    Yt_pseudo = np.hstack((Ytk_pseudo, Ytu_pseudo))\n",
    "    \n",
    "\n",
    "    \n",
    "    acc,acc_unknown,acc_known,HOS=compute_acc(Yt_new,Yt_pseudo,Cs)\n",
    "    # acc_known=compute_acc_known(Yt_new[Yt_new < Cs],Yt_pseudo[Yt_new < Cs], Cs)\n",
    "    # one_unknown=compute_one_unknown(Yt_new[Yt_new >= Cs], Yt_pseudo[Yt_new >= Cs], Cs)\n",
    "    print('all acc',acc)\n",
    "    print(\"pseudo Xtu:\", acc_unknown)\n",
    "    print(\"pseudo Xtk:\", acc_known)\n",
    "    print('HOS:',HOS)\n",
    "\n",
    "    return Xt_new,Yt_new,Yt_pseudo\n",
    "\n",
    "def compute_acc(Y, Y_pseudo, Cs):\n",
    "    acc_os_all = 0\n",
    "    acc_os_k = 0\n",
    "    os = 0\n",
    "    os_1 = 0 \n",
    "    # print(Y)\n",
    "    # print(Y_pseudo)\n",
    "    # 计算已知类的分类准确率\n",
    "    for c in range(Cs):\n",
    "        os_1 = np.sum(Y_pseudo[Y == c] == Y[Y == c]) /Y[Y == c].shape\n",
    "        acc_os_k += os_1\n",
    "    acc_os_k = acc_os_k/Cs\n",
    "    print(acc_os_k)\n",
    "    # 计算未知类的分类准确率\n",
    "    for c in range(Cs):\n",
    "        os = np.sum(Y_pseudo[Y == c] == Y[Y == c]) /Y[Y == c].shape\n",
    "        acc_os_all += os \n",
    "    os_unk = np.sum(Y_pseudo[Y >= Cs ] == Cs)/Y[Y >= Cs ].shape\n",
    "    acc_os_all += os_unk\n",
    "    acc_os_all = acc_os_all/(Cs+1)\n",
    "    HOS=2*(acc_os_k*os_unk)/(acc_os_k+os_unk)\n",
    "    return acc_os_all,os_unk,acc_os_k,HOS"
   ]
  },
  {
   "cell_type": "code",
   "execution_count": 31,
   "metadata": {},
   "outputs": [],
   "source": [
    "scs=['Clipart_Clipart.csv','Product_Product.csv','RealWorld_RealWorld.csv']\n",
    "tg='Product_Art.csv'\n",
    "domain_num=3\n",
    "# root=osp.join('Office-31_Alex','Data_office31')\n",
    "root='Office-Home_resnet50'\n",
    "dataSet='OfficeHome'\n",
    "# scs=['dslr.csv','webcam.csv']\n",
    "# tg='amazon.csv'\n",
    "# domain_num=3\n",
    "# # root=osp.join('Office-31_Alex','Data_office31')\n",
    "# root='resnet50Data'\n",
    "# dataSet='Office31'\n",
    "\n",
    "Cs_end,Cu_start=25,26\n",
    "eta=0.002\n",
    "gamma_tk=0.2\n",
    "gamma_tu=0.7\n",
    "# gamma_s=0.4\n",
    "conf=0\n",
    "u_conf=0"
   ]
  },
  {
   "cell_type": "code",
   "execution_count": 32,
   "metadata": {},
   "outputs": [
    {
     "name": "stdout",
     "output_type": "stream",
     "text": [
      "source 0 is Clipart_Clipart.csv\n",
      "source 1 is Product_Product.csv\n",
      "source 2 is RealWorld_RealWorld.csv\n",
      "target 3 is Product_Art.csv\n"
     ]
    }
   ],
   "source": [
    "Xs,ys,Xt,yt,l,Cs,Cu=roadDataMSbyCSV(root,scs,tg,Cs_end,Cu_start)\n"
   ]
  },
  {
   "cell_type": "code",
   "execution_count": 33,
   "metadata": {},
   "outputs": [
    {
     "name": "stdout",
     "output_type": "stream",
     "text": [
      "[0.5299143]\n",
      "all acc [0.54147561]\n",
      "pseudo Xtu: [0.83050847]\n",
      "pseudo Xtk: [0.5299143]\n",
      "HOS: [0.64700227]\n"
     ]
    }
   ],
   "source": [
    "Xt_new,Yt_new,Yt_pseudo=pseudo_fuc_ms(Xs,ys,Xt,yt,Cs,Cu,conf=conf)"
   ]
  },
  {
   "cell_type": "code",
   "execution_count": 34,
   "metadata": {},
   "outputs": [
    {
     "name": "stdout",
     "output_type": "stream",
     "text": [
      "kmeans预测值 [19 25  6 ... 18  4  3]\n"
     ]
    }
   ],
   "source": [
    "model = cluster.KMeans(n_clusters = len(np.unique(Yt_pseudo)), max_iter = 1000)\n",
    "model.fit(Xt)\n",
    "predicted = model.predict(Xt)\n",
    "print('kmeans预测值',predicted)\n",
    "# plt.scatter(x1_axis, x2_axis, c=predicted)#marker='s', s=100, cmap=plt.cm.Paired)\n",
    "# plt.title(\"KMeans聚类分析\")\n",
    "# plt.show()"
   ]
  },
  {
   "cell_type": "code",
   "execution_count": 35,
   "metadata": {},
   "outputs": [
    {
     "name": "stdout",
     "output_type": "stream",
     "text": [
      "[ 1  3  1  2 20  1  3  6 11  1  1  1  2  1 36  8] 0.3673469387755102\n",
      "[ 1 16  6 38 11  1] 0.5205479452054794\n",
      "[14 20 18 29  1  1  1  2  1] 0.3333333333333333\n",
      "[ 1 21  2  2  5  3  1  2  1  1  4  1  1  2  1  1 61  7  1  5  3  2  1  1\n",
      "  1  4  1  1  1  6  2  1  2  2  1] 0.40131578947368424\n",
      "[20  3  1  2  1 28  9  7  6  1  2  4  2  1  2  4  3  2 10  1  3  8  4  3\n",
      "  2  3] 0.21212121212121213\n",
      "[ 5  5  7  4  5 14  1  1 11  1  2 11  3  4 25  2] 0.24752475247524752\n",
      "[ 1 79  1  1] 0.9634146341463414\n",
      "[ 2  4  1  1 16  8  5  5 13  1 20  7  3  1  1  1  1] 0.2222222222222222\n",
      "[ 6  5  2  2  3  2  1  1  2  1  1  1  1  1  1  3  1  4  1  1  1  2  5  3\n",
      "  1  1  2  6  8  1  1 18  4  4  1  1  3  3 15  1] 0.1487603305785124\n",
      "[ 1  4  3  2  1  1 12  2  1  3  1  1  1  8  5  1  2  1  7  1  1  1  1  1\n",
      "  1  4  1  1  1  2  5  3  1  3 10  1  1  1] 0.12371134020618557\n",
      "[ 5  9  1 60  3  1  2  9  3  3  7] 0.5825242718446602\n",
      "[ 1 29  4  1  1  9  4  1] 0.58\n",
      "[56  1] 0.9824561403508771\n",
      "[ 1  2  1  2  2 13  1 16  3  2  1  6 10  2  3  8  1  1  2  1  2  4  1  3\n",
      "  1  1 13  3  1 16  2  2  4  2  5  1  2  4] 0.1103448275862069\n",
      "[ 1  1  5  5  1  1  3  5  1  1  2  1  1 32  1 14 20  4] 0.32323232323232326\n",
      "[12  1  3  1  7  1  1  2 13 14 16  2  2  1  7] 0.1927710843373494\n",
      "[ 7  1  1  2  2  1  2 36  3] 0.6545454545454545\n",
      "[ 3 11 12  3 38  1  1] 0.5507246376811594\n",
      "[ 2  6  2  2  4  3  7  1  4  2  2  1  1  3  4  1  1  9  7  3  3  5  1  2\n",
      " 20  2  1  2  1  1  2  1  1  3  4  2  1  1  2  6  1  3  4  1] 0.14814814814814814\n",
      "[ 2 61] 0.9682539682539683\n",
      "[ 5  1  1  2  2  4  4  7  2  5 13  2  1  3  4  1  3  1  1  1  2  1  1 19\n",
      "  1  6  1 30  2 12] 0.21739130434782608\n",
      "[ 1 79  4  3  3  2  2  2  1 25  5  1] 0.6171875\n",
      "[ 1  1  9 40  1  2] 0.7407407407407407\n",
      "[55  1] 0.9821428571428571\n",
      "[ 1  1  2  1 39  1  1  1  1  1  3  1] 0.7358490566037735\n",
      "[ 2 24  2  2  1  1  1  6  4  2  4 17] 0.36363636363636365\n",
      "0.4727018144995937\n"
     ]
    }
   ],
   "source": [
    "avg_pure_rate=0\n",
    "for i in range(len(np.unique(Yt_pseudo))):\n",
    "    index,count=np.unique(yt[predicted==i],return_counts=True)\n",
    "    \n",
    "    pure_rate=max(count)/sum(count)\n",
    "    avg_pure_rate+=pure_rate\n",
    "    print(count,pure_rate)\n",
    "avg_pure_rate/=len(np.unique(Yt_pseudo))\n",
    "print(avg_pure_rate)"
   ]
  },
  {
   "cell_type": "code",
   "execution_count": 20,
   "metadata": {},
   "outputs": [
    {
     "name": "stdout",
     "output_type": "stream",
     "text": [
      "[0.01634894]\n"
     ]
    },
    {
     "data": {
      "text/plain": [
       "(array([0.02346887]),\n",
       " array([0.09466812]),\n",
       " array([0.01634894]),\n",
       " array([0.02788263]))"
      ]
     },
     "execution_count": 20,
     "metadata": {},
     "output_type": "execute_result"
    }
   ],
   "source": [
    "compute_acc(yt,predicted,Cs)"
   ]
  },
  {
   "cell_type": "code",
   "execution_count": 18,
   "metadata": {},
   "outputs": [
    {
     "data": {
      "text/plain": [
       "65"
      ]
     },
     "execution_count": 18,
     "metadata": {},
     "output_type": "execute_result"
    }
   ],
   "source": [
    "len(np.unique(yt))"
   ]
  },
  {
   "cell_type": "code",
   "execution_count": 19,
   "metadata": {},
   "outputs": [
    {
     "data": {
      "image/png": "[encoded data removed]",
      "text/plain": [
       "<Figure size 432x288 with 1 Axes>"
      ]
     },
     "metadata": {
      "needs_background": "light"
     },
     "output_type": "display_data"
    }
   ],
   "source": [
    "from numpy import where\n",
    "from sklearn.datasets import make_classification\n",
    "from matplotlib import pyplot\n",
    "# 定义数据集\n",
    "X, y = Xt,yt\n",
    "# 为每个类的样本创建散点图\n",
    "for class_value in range(len(np.unique(yt))):\n",
    "# 获取此类的示例的行索引\n",
    "    row_ix=where(y == class_value)\n",
    "# 创建这些样本的散布\n",
    "pyplot.scatter(X[row_ix, 0], X[row_ix, 1])\n",
    "# 绘制散点图\n",
    "pyplot.show()"
   ]
  },
  {
   "cell_type": "code",
   "execution_count": 8,
   "metadata": {},
   "outputs": [
    {
     "name": "stderr",
     "output_type": "stream",
     "text": [
      "c:\\Users\\10913\\AppData\\Local\\Programs\\Python\\Python37\\lib\\site-packages\\sklearn\\manifold\\_t_sne.py:783: FutureWarning: The default initialization in TSNE will change from 'random' to 'pca' in 1.2.\n",
      "  FutureWarning,\n",
      "c:\\Users\\10913\\AppData\\Local\\Programs\\Python\\Python37\\lib\\site-packages\\sklearn\\manifold\\_t_sne.py:793: FutureWarning: The default learning rate in TSNE will change from 200.0 to 'auto' in 1.2.\n",
      "  FutureWarning,\n",
      "c:\\Users\\10913\\AppData\\Local\\Programs\\Python\\Python37\\lib\\site-packages\\IPython\\core\\pylabtools.py:151: UserWarning: Glyph 30495 (\\N{CJK UNIFIED IDEOGRAPH-771F}) missing from current font.\n",
      "  fig.canvas.print_figure(bytes_io, **kw)\n",
      "c:\\Users\\10913\\AppData\\Local\\Programs\\Python\\Python37\\lib\\site-packages\\IPython\\core\\pylabtools.py:151: UserWarning: Glyph 23454 (\\N{CJK UNIFIED IDEOGRAPH-5B9E}) missing from current font.\n",
      "  fig.canvas.print_figure(bytes_io, **kw)\n",
      "c:\\Users\\10913\\AppData\\Local\\Programs\\Python\\Python37\\lib\\site-packages\\IPython\\core\\pylabtools.py:151: UserWarning: Glyph 20998 (\\N{CJK UNIFIED IDEOGRAPH-5206}) missing from current font.\n",
      "  fig.canvas.print_figure(bytes_io, **kw)\n",
      "c:\\Users\\10913\\AppData\\Local\\Programs\\Python\\Python37\\lib\\site-packages\\IPython\\core\\pylabtools.py:151: UserWarning: Glyph 31867 (\\N{CJK UNIFIED IDEOGRAPH-7C7B}) missing from current font.\n",
      "  fig.canvas.print_figure(bytes_io, **kw)\n"
     ]
    },
    {
     "data": {
      "image/png": "[encoded data removed]",
      "text/plain": [
       "<Figure size 432x288 with 1 Axes>"
      ]
     },
     "metadata": {
      "needs_background": "light"
     },
     "output_type": "display_data"
    }
   ],
   "source": [
    "import numpy as np\n",
    "import matplotlib.pyplot as plt\n",
    "from sklearn import cluster\n",
    "from sklearn import datasets\n",
    "from sklearn.manifold import TSNE\n",
    "data_TSNE = TSNE(n_components=2).fit_transform(Xt)\n",
    "x1_axis = data_TSNE[:,0]\n",
    "x2_axis = data_TSNE[:,1]\n",
    "real = yt\n",
    "plt.scatter(x1_axis, x2_axis, c=real)\n",
    "plt.title(\"真实分类\")\n",
    "plt.show()\n",
    "\n",
    "\n"
   ]
  },
  {
   "cell_type": "code",
   "execution_count": 60,
   "metadata": {},
   "outputs": [
    {
     "name": "stdout",
     "output_type": "stream",
     "text": [
      "kmeans预测值 [13  3 13 ... 22 14  9]\n"
     ]
    },
    {
     "name": "stderr",
     "output_type": "stream",
     "text": [
      "c:\\Users\\10913\\AppData\\Local\\Programs\\Python\\Python37\\lib\\site-packages\\IPython\\core\\pylabtools.py:151: UserWarning: Glyph 32858 (\\N{CJK UNIFIED IDEOGRAPH-805A}) missing from current font.\n",
      "  fig.canvas.print_figure(bytes_io, **kw)\n",
      "c:\\Users\\10913\\AppData\\Local\\Programs\\Python\\Python37\\lib\\site-packages\\IPython\\core\\pylabtools.py:151: UserWarning: Glyph 31867 (\\N{CJK UNIFIED IDEOGRAPH-7C7B}) missing from current font.\n",
      "  fig.canvas.print_figure(bytes_io, **kw)\n",
      "c:\\Users\\10913\\AppData\\Local\\Programs\\Python\\Python37\\lib\\site-packages\\IPython\\core\\pylabtools.py:151: UserWarning: Glyph 20998 (\\N{CJK UNIFIED IDEOGRAPH-5206}) missing from current font.\n",
      "  fig.canvas.print_figure(bytes_io, **kw)\n",
      "c:\\Users\\10913\\AppData\\Local\\Programs\\Python\\Python37\\lib\\site-packages\\IPython\\core\\pylabtools.py:151: UserWarning: Glyph 26512 (\\N{CJK UNIFIED IDEOGRAPH-6790}) missing from current font.\n",
      "  fig.canvas.print_figure(bytes_io, **kw)\n"
     ]
    },
    {
     "data": {
      "image/png": "[encoded data removed]",
      "text/plain": [
       "<Figure size 432x288 with 1 Axes>"
      ]
     },
     "metadata": {
      "needs_background": "light"
     },
     "output_type": "display_data"
    }
   ],
   "source": [
    "model = cluster.KMeans(n_clusters = len(np.unique(Yt_pseudo)), max_iter = 1000)\n",
    "model.fit(Xt)\n",
    "predicted = model.predict(Xt)\n",
    "print('kmeans预测值',predicted)\n",
    "plt.scatter(x1_axis, x2_axis, c=predicted)#marker='s', s=100, cmap=plt.cm.Paired)\n",
    "plt.title(\"KMeans聚类分析\")\n",
    "plt.show()"
   ]
  },
  {
   "cell_type": "code",
   "execution_count": 58,
   "metadata": {},
   "outputs": [
    {
     "data": {
      "text/plain": [
       "array([-1,  0,  1,  2,  3,  4,  5,  6,  7,  8,  9, 10, 11, 12, 13, 14, 15,\n",
       "       16, 17, 18, 19, 20, 21, 22, 23], dtype=int64)"
      ]
     },
     "execution_count": 58,
     "metadata": {},
     "output_type": "execute_result"
    }
   ],
   "source": [
    "model_DBSCAN=cluster.DBSCAN(eps=0.65,min_samples=5)\n",
    "model_DBSCAN.fit(Xt)\n",
    "model_DBSCAN.labels_\n",
    "np.unique(model_DBSCAN.labels_)"
   ]
  },
  {
   "cell_type": "code",
   "execution_count": 60,
   "metadata": {},
   "outputs": [
    {
     "data": {
      "text/plain": [
       "[[1, 2, 3, 4], [2, 4, 6, 8], [3, 6, 9, 12], [4, 8, 12, 16]]"
      ]
     },
     "execution_count": 60,
     "metadata": {},
     "output_type": "execute_result"
    }
   ],
   "source": [
    "dp=[[i*j for i in range(1,5)] for j in range(1,5)]\n",
    "dp"
   ]
  },
  {
   "cell_type": "code",
   "execution_count": 61,
   "metadata": {},
   "outputs": [
    {
     "data": {
      "text/plain": [
       "[3, 6, 9, 12]"
      ]
     },
     "execution_count": 61,
     "metadata": {},
     "output_type": "execute_result"
    }
   ],
   "source": [
    "dp[:][2]"
   ]
  },
  {
   "cell_type": "code",
   "execution_count": 34,
   "metadata": {},
   "outputs": [
    {
     "data": {
      "text/plain": [
       "26"
      ]
     },
     "execution_count": 34,
     "metadata": {},
     "output_type": "execute_result"
    }
   ],
   "source": [
    "len(np.unique(Yt_pseudo))"
   ]
  },
  {
   "cell_type": "code",
   "execution_count": 61,
   "metadata": {},
   "outputs": [
    {
     "name": "stdout",
     "output_type": "stream",
     "text": [
      "[48 52 60  8 48 62  8 52 14 52 52 20 52 52 52 19  8 52 52 52 33 62 33 52\n",
      " 34 54 52 54  8 52 13 32 48 52 48 62 52 52 38 52 38 52  2 52 48  8 52 29\n",
      " 20 44  8 60 12  8 52 52 48 22 48 21 23 34  2 23 48 32 34 29 48  7 62  3\n",
      " 35 52 52 48 62 34 52 52 33 52 48  8  8 52 18 11 34  7  8  8]\n",
      "[25 24 37 21 59  9 36 64 61 36 43 40 40 36 25 25 36 57 40 24 63 50 25 57\n",
      " 57 25 25 15 25 25 61 36 57 41 61 50 40 25 57 25 50 25  5 25 35  9 24 57\n",
      " 41 36  6 57 57 57 24 35 25 57 24 36 57 57 41 57 40  5 41 25 36 25 19 25\n",
      " 25 25 36 40 34 57 25 26 36 25 25 57 25 25 57 40 41 25 25 40 50 59 36 40\n",
      " 57 40 24 61 64 25 40 37 36 61 57 57 40 49 24 40 25 40 24 25]\n",
      "[ 5  5 55  5 55  5  5 55 55 63  5  5  5 28  5  5  5 55 55  5  5 55  5  5\n",
      "  5  5  5  5  2  5  5  5 55  5 48 61  5 55 63 55 55 55 55 37  5  5  5 46\n",
      "  5  9  5 55 61  5  5  5 55  2 55  5  5  5  5  5  5  5  5  5  5 55 55  5\n",
      "  5  5  5  5 61  5  5  5  5  5  5 55  5  5  5  5 55  5 55 61  5  5  5  5\n",
      "  5  5  5  5  5  5  5 55  5  5 61  9  5]\n",
      "[ 4  4  4  4  0  4  4  4  4  4  4  4  4  4  4  4  4  4  4  4  4  4  4  4\n",
      "  4  4  4  4  0  0  4  4  4  4  4  4  4 25  4  4  4  4  4  4  4  4  4  4\n",
      "  4  4  4  4  4  4  4  4  4  4  4  4  4  4  4  4  4]\n",
      "[17 44 38 49 60 23 38 31 46 41 49 44 34 47 11 35  8 17 60 44 38 35 38 11\n",
      " 58 11 11 16 11 38 19 49 32 49 25 25 23 44 18 18 58 17 49 49 11 33 11 29\n",
      " 11 23 12 44 33 33 23  8 17 27 23  6 17  5 47 28 44 41  8 38 38 11 17 44\n",
      " 41 11 18 46 44 44 17 11 60 12 13 18 23 11 38 44 52 49 50 11  6  6 60 41\n",
      " 11 47 26 38 44 44 38 18 18 49 17 25 38 44  2 47 12  8 44 49  6 50  4 60\n",
      " 23 22 18 18 28 41 22 49 58 57 18 44 16 32 35 43  8  2 38  4]\n",
      "[28 28 28 60 53 28 59 60  5 60 27 60 28 28 37 28 28 28 64 28 53 60  9 15\n",
      " 60  5 28 60  5 37 60 60 28  0 53 60 27 28 28 60 15 60 53 26 53 28  9 60\n",
      " 28 60 28 60 25 60 60 60 28 28 28  2 60 28 28 60 11 60 28 60 53 60  0  5\n",
      " 53 28 60 28]\n",
      "[22 22 22 22 22 22 22 22 22 22 22 22 52 22 22 22 22 22 22 22 22 22 22 22\n",
      " 22 22 22 22 22 22 22 22 22 22 22 22 22 22 22 22 22 22 22 22 22 22 22 22\n",
      " 22 22 22  9 22 22 22 22 22 22 22 22 22 22 22 22 22 22 22 22 22 22 22 22\n",
      " 22 22 22 22 22 22 22 22]\n",
      "[15 12 10 14  3  3  3  3 10 10 10 12 10 53 10 13  3 10 13 10 15  3 13  3\n",
      "  3 10 14  3 13 10 13  4 10 10  3 59 10 10  3  3  3 10 13 52 13 13  3 59\n",
      " 48 12 10 13  3  4 34 10 13 13 14 13 20 10  3 10 10 58 47 10  3 10  3 12\n",
      " 13  3 13 52 10 13 13  3 14 38 10  3 12 52 10 13 35 10 10 12 10 10 10  3\n",
      "  3 59 10 13  3  3 10 13 12 10 34 13 10 10  3 10 14  3 10 19 13 10  3 10\n",
      " 39  4 10 13 35 10 19  3 47 10 13 10 10  3 10 13 10 10 13 47]\n",
      "[32 12 12 32 32 12 12 34 34 29 32 32 32 12 29  7 32 34 32 32 32 34 12 12\n",
      " 29 29 34 34 34 32 34 29 32 12 32 32 12 32 32 32 34 32 34 32 32 12 32 32\n",
      " 12 32 32 32 32 32 32 32 12 32 32 32 32 29 32 32 12 32 32 32 32]\n",
      "[47 64 55 60 39 47 47 47 47 58 47 56 64 58 58 47 58 58 47 56 47 47 47 12\n",
      " 47 47 56 39 56 63 32 12 64 56 56 58 47 56 32 19 19 47 41 58 47 47 56 58\n",
      " 56 47 47 56 58 47 56 56 47 47 64 12 58 34 58 60 58 47 20 47 12 47 47 47\n",
      " 58 34 58 64  1 58 58 12 55 47 40 56 47 56 56 19 58 58 58 36 19 32 58 23\n",
      " 36 58 32 34 47 64 47 19]\n",
      "[14 14 14 14 13 14 14 14 14 14 14 14 14 14 14 14  3 14 14 14 59 13 14 14\n",
      " 14 14 14 14 14 14 35  9 14 14 14]\n",
      "[24 24 51 35 35 24 61 57 50 41 57 24 57 51 24 24 51 57 24 24 24 24 51 24\n",
      " 24 51 35 61 24 61 24 61 46 61 24 40 57 24 33 46 61 24 61 24 24 51 35 57\n",
      " 35 30 34 57 61 14 24 57 51 57 24 50 24 57 61 24 24 24 43 24 42 57 61 61\n",
      " 24 35 24]\n",
      "[26 60 16 35 19 19  0 60 26 46 46 27 56  4 51 64 51 19 51 15 19 51 51 51\n",
      " 19 56 31 42 31 26 64 50 64 51 19 47 60 55 26 56 16 46 26 19 46  9 41 19\n",
      " 46 19 26  5 64 19 19 64 46 25 26 26 43 26 46 27 58 64 16 16 45 26 26 15\n",
      "  3 56 51 26 16 46 19 48  0 19 56 16  2 19 26 60 51  5 41 46 50 19 11 48\n",
      " 26 48 26  4 16 19 26 16 25 36 51 34  2]\n",
      "[63  6 37 37 28  9 37 37 37 37 37 63 37 63 37 37 63 57 37  2 37 37 61 37\n",
      " 37  6 37 37 37 37 37 37  2  6 37 55 63  6 37 37  6 37 37 37  6 57 37 55\n",
      " 28 63 37 37 37 28  6  6 37 37 37  6 37 37  6 37 63 63 24 55 37 37 63  6\n",
      " 63  6]\n",
      "[21 21 21 21 21 54 54 21 54 54 21 21 21 21 25 54 54 54 40 21 21 21 21 21\n",
      " 38 21 54 21 54 54 54  6 21 21 54 21 54 21 21 54 21 54 21 46 21 21 21 21\n",
      " 21 21 21 21 15 21 21 21 37 54  1 54 54 21 50 54 21 54 13  1  6 61 21 27\n",
      " 27 54 54 21 21  1 54 54 21 21 54 54 54 21 54 21]\n",
      "[9 9 9 9 9 9 9 9 9 9 9 9 9 9 9 9 9 9 9 9 9 9 9 9 9 9 9 9 9 9 9 9 9 9 9 9 9\n",
      " 9 9 9 9 9 9 9 9 9 9 9 9 9 9 9 9 9]\n",
      "[39 34 58 39 34 39 63 53 34 20 53 48 48 45 52 23 23 48 59 48 48 48 48  2\n",
      " 45 34 20 34 11 48 10 45 47 23 12 23 48 34 15 45 20 45 23 48 23 39 45 11\n",
      " 48 45 35 18 39 45 20 20 20 45 20 20 20 45 20 20 18 20 12 48 39 20 48 20\n",
      " 52 48 52 48 19 48 23  2 39 60 59 23 45 12 48 39 45 20 18 48 48 20 39 52\n",
      " 20 45 11 48 20 39]\n",
      "[43 18  9  9 31 19  5 61 22 12 34  3 13 32  4 25 18 19 28 58 15 12 10 19\n",
      " 18 24 19 10 47 34 10  4 58 48  9 13  4 19 14 32 36 19  5 26  3 47 29 48\n",
      " 10 47 45  4 26 54 62 60  5 58 11 10 31 34 58 58 19 61 48 53  0 12  6 10\n",
      " 34 19 14 15 45 10 10 24 58 10 34  8 19  5  3 35 10 34 31 18 19 18 18 58\n",
      " 23 39 18 19 18  9 17 31 58 10]\n",
      "[48 60 53 42  3 55 48 48 28 53 19 53  5 40 61 53 59 28 53  6 53 53 12 53\n",
      " 61  9  6 27 15 53 10  6 39  6 61 53 60 19 39 53 53 48 63 53 63 53 53  6\n",
      " 52 53  6 30  9 53 53 34 59 45 24 39 53 53 64 53 53 28 53 63 53 39  6 26\n",
      " 40 63 53  3  6 12 12 39 10 53 53 13  6 28]\n",
      "[30 42 51 50 30 42 61 26 30 50 26 61 26 54 30 30 30 26 30 30 30 50 30 42\n",
      " 30 57 30 30 30 26 24 50 30 30 30 57 50 26 30 50 30 30 30 26 30 30 30 30\n",
      " 30 30 30 24 50 30 30 30 30 57 30 30 41 57 30 25 51 16 30 30 30 30 30 30\n",
      " 57 51 30 30 30 30 30 57 57 26 30 49 30 30 26 51 50 30 30 61 30 57 30 30\n",
      " 51 30 30 30 30]\n",
      "[46 41  0 55 24 55 13 46 22 61 17 60 48  5 54 26 62 22  5 53 28 54 57 28\n",
      " 57 35 31 46 41  1 55 16 51 25 12 27 60 63 22 47 28  6 22  5  6 11 35 63\n",
      " 43 57 19 43 30 13  9 59 62 36 57 62 54 44 54 31  3 44 35 37 39 17 62  5\n",
      " 62  2 46  6 61 61 55 19 28  0 49 27 10 55 32 62 61 55 60 10 22 55 55 31\n",
      " 28  1  1 62 57 62 27 37  0 46  0  0 22  5 48 35 13  5  6 35 61 62  1 24\n",
      " 59  5  1  1  0  9 46 46 61 10 15  5  1 52 61 44 13 54 24 25 37  5 62  6\n",
      " 17  9 58 48 62 35 46 10 28 54 26 62  1  5 54 43 52 54 55  6 41 62 46 61\n",
      "  0]\n",
      "[31 10 31 31 31 31 15 31 31  9 31 31 31 31 15 31 26 31 15 15 31 31 15 19\n",
      " 31 31 31 15 31 31 31 31 31 15 59 31 31 31 31 15 59 31 31 15 31 31 31 26\n",
      " 31 31 31 31]\n",
      "[55 26 27 10  1 30  1 27 38  9  6  1 35  1 30 34 12 54  6 30 27 30 53 27\n",
      " 27 30 27 48 27  1  1  1 27 27 27 27 38 10 27 27  1 53 27 54 31 38 27 22\n",
      " 14 35 27 30 54 27 30 26 48 34 27  3 12 27  9 41 43 38 59  6  1  1 27 37\n",
      " 50  4 27 54 19 31 14  5  1 27  1  1 13 27 27 27  1 27 27 27 48  0 27 30\n",
      "  1 27 58 28 27 27 24 54 27  1 10  1 27 13 27  7  5 27  1 27 27 35 27 35\n",
      " 26 30 13 27 27 12 27  6 27 27 27 27 28  1  1 27 35 35 27 27 27 27 29  1\n",
      " 26 45 27 27 27 12 27 35 15 28 35  1  1 30 26 62 27 27 27  1  1 27 28 36\n",
      " 54 38  4  5 27 34 31 47  1  6 27 27 47 27  1  4 27 34 58 27 27  1 27  1\n",
      " 47 27]\n",
      "[0 0 0 0 0 0 0 0 0 0 0 0 0 0 0 0 0 0 0 0 0 0 0 0 0 0 0 0 0 0 0 0 0 0 0 0 0\n",
      " 0 0 0 0 0 0 0 0 0 0 0 0 0 0 0 0 0 0 0 0]\n",
      "[ 7  7  7  0  7  7  7  7  7  7  7  7  8 29 12  7  7  8  8 29  7  7  7 34\n",
      "  7 29  7  7 58  7 32  7  7 58  7  7 29  7  7 29 29  7  7 23 29  7]\n",
      "[33 61 43 42 19 16 43 43 51  2 61 52 17 42  2 33 43  2 43 49 52  2 42 42\n",
      " 30 42  2 11 43 33  2 61  2 43 43 33 33 55 42 43 17  2 51 42 43 42 16 11\n",
      "  2  2 42 17 51 33 22  2 42 17 43  2 33 42 17 42 17  2 43 33 16 51 11 43\n",
      " 43 51 33 51 33 42 43 42 33 49 33 43 51 43 33 61]\n"
     ]
    }
   ],
   "source": [
    "n_clusters=len(np.unique(predicted))\n",
    "for clu in range(n_clusters):\n",
    "    print(yt[predicted==clu])\n",
    "    "
   ]
  },
  {
   "cell_type": "code",
   "execution_count": 37,
   "metadata": {},
   "outputs": [
    {
     "data": {
      "text/plain": [
       "array([12, 25, 25], dtype=int64)"
      ]
     },
     "execution_count": 37,
     "metadata": {},
     "output_type": "execute_result"
    }
   ],
   "source": [
    "Yt_pseudo[predicted==1]"
   ]
  },
  {
   "cell_type": "code",
   "execution_count": null,
   "metadata": {},
   "outputs": [],
   "source": []
  },
  {
   "cell_type": "code",
   "execution_count": 22,
   "metadata": {},
   "outputs": [
    {
     "data": {
      "text/plain": [
       "2427"
      ]
     },
     "execution_count": 22,
     "metadata": {},
     "output_type": "execute_result"
    }
   ],
   "source": [
    "len(predicted)"
   ]
  },
  {
   "cell_type": "code",
   "execution_count": 23,
   "metadata": {},
   "outputs": [
    {
     "name": "stdout",
     "output_type": "stream",
     "text": [
      "[0.03684629]\n"
     ]
    },
    {
     "data": {
      "text/plain": [
       "(array([0.03568783]),\n",
       " array([0.00672646]),\n",
       " array([0.03684629]),\n",
       " array([0.01137615]))"
      ]
     },
     "execution_count": 23,
     "metadata": {},
     "output_type": "execute_result"
    }
   ],
   "source": [
    "compute_acc(yt,predicted,Cs)"
   ]
  },
  {
   "cell_type": "code",
   "execution_count": 59,
   "metadata": {},
   "outputs": [
    {
     "name": "stdout",
     "output_type": "stream",
     "text": [
      "0 8 6 5 6 8 3 5 7 \n",
      "6 7 8 0 8 5 8 9 7 "
     ]
    }
   ],
   "source": [
    "L1,L2=ListNum1,ListNum2\n",
    "while L1 is not None:\n",
    "    print(L1.val,end=' ')\n",
    "    L1=L1.next\n",
    "print()\n",
    "while L2 is not None:\n",
    "    print(L2.val,end=' ')\n",
    "    L2=L2.next"
   ]
  },
  {
   "cell_type": "code",
   "execution_count": 60,
   "metadata": {},
   "outputs": [],
   "source": [
    "Sul=addTwoNumbers(ListNum1,ListNum2)"
   ]
  },
  {
   "cell_type": "code",
   "execution_count": 61,
   "metadata": {},
   "outputs": [
    {
     "data": {
      "text/plain": [
       "7"
      ]
     },
     "execution_count": 61,
     "metadata": {},
     "output_type": "execute_result"
    }
   ],
   "source": [
    "Sul.next.val"
   ]
  },
  {
   "cell_type": "code",
   "execution_count": 62,
   "metadata": {},
   "outputs": [],
   "source": [
    "l1,l2=ListNum1,ListNum2"
   ]
  },
  {
   "cell_type": "code",
   "execution_count": 65,
   "metadata": {},
   "outputs": [
    {
     "name": "stdout",
     "output_type": "stream",
     "text": [
      "9\n",
      "0 6 6\n",
      "8 7 5\n",
      "6 8 5\n",
      "5 0 6\n",
      "6 8 4\n",
      "8 5 4\n",
      "3 8 2\n",
      "5 9 5\n",
      "7 7 5\n",
      "1\n"
     ]
    }
   ],
   "source": [
    "listl1=l1\n",
    "listl2=l2\n",
    "sum=ListNode(0,None)\n",
    "sum_h=sum\n",
    "len1,len2=0,0\n",
    "while listl1 is not None:\n",
    "    listl1=listl1.next\n",
    "    len1+=1\n",
    "while listl2 is not None:\n",
    "    listl2=listl2.next\n",
    "    len2+=1\n",
    "diff = len1 - len2\n",
    "maxlen=max(len1,len2)\n",
    "listl1=l1\n",
    "listl2=l2\n",
    "# print(len1,len2,diff)\n",
    "add_temp=0\n",
    "print(maxlen-abs(diff))\n",
    "for i in range(maxlen-abs(diff)): \n",
    "    tempNode=ListNode((listl1.val+listl2.val+add_temp)%10,None)\n",
    "    print(listl1.val,listl2.val,(listl1.val+listl2.val+add_temp)%10)\n",
    "    add_temp=(listl1.val+listl2.val+add_temp)//10\n",
    "    # print(listl1.val,listl2.val)\n",
    "    sum_h.next=tempNode\n",
    "    sum_h=sum_h.next\n",
    "    listl1=listl1.next\n",
    "    listl2=listl2.next\n",
    "if diff>0:\n",
    "    for i in range(diff):\n",
    "        tempNode=ListNode((listl1.val+add_temp)%10,None)\n",
    "        add_temp=(listl1.val+add_temp)//10\n",
    "        sum_h.next=tempNode\n",
    "        sum_h=sum_h.next\n",
    "        listl1=listl1.next\n",
    "else :\n",
    "    for i in range(-diff):\n",
    "        tempNode=ListNode((listl2.val+add_temp)%10,None)\n",
    "        add_temp=(listl2.val+add_temp)//10\n",
    "        sum_h.next=tempNode\n",
    "        sum_h=sum_h.next\n",
    "        listl2=listl2.next\n",
    "if add_temp!=0:\n",
    "    tempNode=ListNode(add_temp,None)\n",
    "    sum_h.next=tempNode\n",
    "    sum_h=sum_h.next\n",
    "    print(add_temp)\n",
    "sum=sum.next"
   ]
  },
  {
   "cell_type": "code",
   "execution_count": 64,
   "metadata": {},
   "outputs": [
    {
     "name": "stdout",
     "output_type": "stream",
     "text": [
      "6 5 5 6 4 4 2 5 5 1 "
     ]
    }
   ],
   "source": [
    "L3=sum\n",
    "while L3 is not None:\n",
    "    print(L3.val,end=' ')\n",
    "    L3=L3.next"
   ]
  },
  {
   "cell_type": "code",
   "execution_count": 119,
   "metadata": {},
   "outputs": [],
   "source": [
    "x=[3,2,4,1]"
   ]
  },
  {
   "cell_type": "code",
   "execution_count": 96,
   "metadata": {},
   "outputs": [
    {
     "name": "stdout",
     "output_type": "stream",
     "text": [
      "[3, 2, 4, 1]\n"
     ]
    }
   ],
   "source": [
    "import operator\n",
    "max_index, max_number = max(enumerate(x[:len(x)]), key=operator.itemgetter(1))\n",
    "print(x[:len(x)])"
   ]
  },
  {
   "cell_type": "code",
   "execution_count": 126,
   "metadata": {},
   "outputs": [
    {
     "name": "stdout",
     "output_type": "stream",
     "text": [
      "[1, 3, 2, 4]\n",
      "[2, 1, 3, 4]\n",
      "[1, 2, 3, 4]\n",
      "[3, 4, 2, 3, 1, 2]\n"
     ]
    }
   ],
   "source": [
    "x=[3,2,4,1]\n",
    "def pancakeSort(arr):\n",
    "    length=len(arr)\n",
    "    if length==1:\n",
    "        return []\n",
    "    elif length==2:\n",
    "        if arr[1]>arr[2]:\n",
    "            return []\n",
    "        else: \n",
    "            return [2]\n",
    "    \n",
    "    res=[]\n",
    "    for i in range(length-1):\n",
    "        maxIndex,maxNum=max(enumerate(arr[:(length-i)]), key=operator.itemgetter(1))\n",
    "        tempArr=arr[:(maxIndex+1)]\n",
    "        tempArr.reverse()\n",
    "        arr[:(maxIndex+1)]=tempArr\n",
    "        tempArr=arr[:(length-i)]\n",
    "        tempArr.reverse()\n",
    "        arr[:(length-i)]=tempArr\n",
    "        print(arr)\n",
    "        res.append(maxIndex+1)\n",
    "        res.append(length-i)\n",
    "    return res\n",
    "\n",
    "res=pancakeSort(x)\n",
    "print(res)"
   ]
  },
  {
   "cell_type": "code",
   "execution_count": 21,
   "metadata": {},
   "outputs": [
    {
     "name": "stdout",
     "output_type": "stream",
     "text": [
      "[[1, 0, 1, 0, 0], [2, 0, 2, 1, 1], [3, 1, 3, 2, 2], [4, 0, 0, 3, 0]]\n",
      "[0, 1, 0, 1, 0, 0, 0]\n",
      "0 1 1\n",
      "0 1 1\n",
      "[0, 2, 0, 2, 1, 1, 0]\n",
      "0 2 2\n",
      "1 2 2\n",
      "0 1 1\n",
      "0 1 3\n",
      "[0, 3, 1, 3, 2, 2, 0]\n",
      "1 3 3\n",
      "2 3 3\n",
      "0 2 2\n",
      "0 2 6\n",
      "0 1 5\n",
      "[0, 4, 0, 0, 3, 0, 0]\n",
      "0 4 4\n",
      "0 3 3\n"
     ]
    },
    {
     "data": {
      "text/plain": [
       "6"
      ]
     },
     "execution_count": 21,
     "metadata": {},
     "output_type": "execute_result"
    }
   ],
   "source": [
    "class Solution:\n",
    "    def maximalRectangle(self, matrix) -> int:\n",
    "        n,m,ans=len(matrix),len(matrix[0]),0\n",
    "        psum=[[0]*(m) for i in range(n)]\n",
    "        for i in range(0,n):\n",
    "            for j in range(0,m):\n",
    "                # print(matrix[i][j])\n",
    "                if matrix[i][j]=='1':\n",
    "                    if i>0:\n",
    "                        psum[i][j]=psum[i-1][j]+1\n",
    "                    else:\n",
    "                        psum[i][j]=1\n",
    "        print(psum)\n",
    "        for i in range(0,n):\n",
    "            cur=[0]+psum[i]+[0]\n",
    "            print(cur)\n",
    "            stack=[0]\n",
    "            for j in range(1,m+2):\n",
    "                while cur[j]<cur[stack[-1]]:\n",
    "                    current_height=cur[stack.pop()]\n",
    "                    curr_area=current_height*(j-1-stack[-1])\n",
    "                    print(cur[j],current_height,curr_area)\n",
    "                    ans=max(curr_area,ans)\n",
    "                stack.append(j)\n",
    "        \n",
    "        return ans\n",
    "S=Solution()\n",
    "matrix = [[\"1\",\"0\",\"1\",\"0\",\"0\"],[\"1\",\"0\",\"1\",\"1\",\"1\"],[\"1\",\"1\",\"1\",\"1\",\"1\"],[\"1\",\"0\",\"0\",\"1\",\"0\"]]\n",
    "S.maximalRectangle(matrix)"
   ]
  },
  {
   "cell_type": "code",
   "execution_count": 4,
   "metadata": {},
   "outputs": [
    {
     "data": {
      "text/plain": [
       "92.93039268423884"
      ]
     },
     "execution_count": 4,
     "metadata": {},
     "output_type": "execute_result"
    }
   ],
   "source": [
    "def HOS(a,b):\n",
    "    return 2*a*b/(a+b)\n",
    "HOS(94.3,91.6)"
   ]
  },
  {
   "cell_type": "code",
   "execution_count": 66,
   "metadata": {},
   "outputs": [
    {
     "name": "stdout",
     "output_type": "stream",
     "text": [
      "[[1, 0, 0, 0], [0, 1, 0, 0], [0, 0, 1, 0], [0, 0, 0, 1]]\n",
      "[[1, 2, 2, 2], [0, 1, 0, 0], [0, 0, 1, 0], [0, 0, 0, 1]]\n",
      "[[1, 2, 2, 2], [0, 2, 0, 3], [0, 0, 1, 0], [0, 0, 0, 1]]\n",
      "[[1, 2, 2, 2], [0, 2, 0, 3], [0, 0, 2, 0], [0, 0, 0, 1]]\n",
      "[[1, 2, 2, 2], [0, 2, 0, 3], [0, 0, 2, 0], [0, 0, 0, 3]]\n"
     ]
    },
    {
     "data": {
      "text/plain": [
       "3"
      ]
     },
     "execution_count": 66,
     "metadata": {},
     "output_type": "execute_result"
    }
   ],
   "source": [
    "class Solution:\n",
    "    def maxEnvelopes(self, envelopes) -> int:\n",
    "        envelopes=sorted(envelopes,key=lambda x:(x[0],x[1]))\n",
    "        m=len(envelopes)\n",
    "        dp=[[0]*m for _ in range(m)]\n",
    "        for i in range(m):\n",
    "            dp[i][i]=1#肯定能装进自己\n",
    "        for i in range(m):\n",
    "            print(dp)\n",
    "            if i>0:\n",
    "                dp[:][i][:i]\n",
    "                dp[i][i]=max([d[i] for d in dp])#其他信封的最大值装进去 累加\n",
    "            for j in range(i,m):\n",
    "                if envelopes[j][0]>envelopes[i][0] and envelopes[j][1]>envelopes[i][1]:#可以装进去，累加\n",
    "                    dp[i][j]=dp[i][i]+1\n",
    "        print(dp)\n",
    "        return max(max(d) for d in dp)\n",
    "S=Solution()\n",
    "S.maxEnvelopes([[5,4],[6,4],[6,7],[2,3]])"
   ]
  },
  {
   "cell_type": "code",
   "execution_count": 56,
   "metadata": {},
   "outputs": [
    {
     "data": {
      "text/plain": [
       "[[1, 0, 0, 0], [0, 1, 0, 0], [0, 0, 1, 0], [0, 0, 0, 1]]"
      ]
     },
     "execution_count": 56,
     "metadata": {},
     "output_type": "execute_result"
    }
   ],
   "source": [
    "m=4\n",
    "dp=[[0]*m for _ in range(m)]\n",
    "for i in range(m):\n",
    "    dp[i][i]=1#肯定能装进自己\n",
    "dp"
   ]
  },
  {
   "cell_type": "code",
   "execution_count": 58,
   "metadata": {},
   "outputs": [
    {
     "data": {
      "text/plain": [
       "[0, 0, 1, 0]"
      ]
     },
     "execution_count": 58,
     "metadata": {},
     "output_type": "execute_result"
    }
   ],
   "source": [
    "dp[:][2]"
   ]
  },
  {
   "cell_type": "code",
   "execution_count": null,
   "metadata": {},
   "outputs": [],
   "source": [
    "max([d[i] for d in dp])"
   ]
  },
  {
   "cell_type": "code",
   "execution_count": null,
   "metadata": {},
   "outputs": [],
   "source": []
  }
 ],
 "metadata": {
  "kernelspec": {
   "display_name": "Python 3.7.0 64-bit",
   "language": "python",
   "name": "python3"
  },
  "language_info": {
   "codemirror_mode": {
    "name": "ipython",
    "version": 3
   },
   "file_extension": ".py",
   "mimetype": "text/x-python",
   "name": "python",
   "nbconvert_exporter": "python",
   "pygments_lexer": "ipython3",
   "version": "3.7.0"
  },
  "orig_nbformat": 4,
  "vscode": {
   "interpreter": {
    "hash": "7561be136af4c20f61ae64066fbde9a25b93022926daecb6440711f63ea82dfb"
   }
  }
 },
 "nbformat": 4,
 "nbformat_minor": 2
}
